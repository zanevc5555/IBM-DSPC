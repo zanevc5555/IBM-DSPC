{
  "cells": [
    {
      "cell_type": "markdown",
      "metadata": {
        "id": "5OW8VUfaJaFI"
      },
      "source": [
        "<center>\n",
        "    <img src=\"https://cf-courses-data.s3.us.cloud-object-storage.appdomain.cloud/IBMDeveloperSkillsNetwork-DS0105EN-SkillsNetwork/labs/Module2/images/SN_web_lightmode.png\" width=\"300\" alt=\"cognitiveclass.ai logo\">\n",
        "</center>\n"
      ]
    },
    {
      "cell_type": "markdown",
      "metadata": {
        "id": "qoeEfcrqJaFM"
      },
      "source": [
        "#### Add your code below following the instructions given in the course\n"
      ]
    },
    {
      "cell_type": "markdown",
      "source": [
        "## Data Science Tools and Ecosystem"
      ],
      "metadata": {
        "id": "f-Y5VModYkVT"
      }
    },
    {
      "cell_type": "markdown",
      "source": [
        "In this notebook, Data Science Tools and Ecosystem are summarized."
      ],
      "metadata": {
        "id": "A20abZzEY9pX"
      }
    },
    {
      "cell_type": "markdown",
      "source": [
        "**Objectives:**\n",
        "\n",
        "- List popular languages used in Data Science.\n",
        "- List popular libraries utilised in Data Science.\n",
        "- List development environment open-source tools used by Data scientists.\n",
        "- Create code to evaluate arithmetic expressions."
      ],
      "metadata": {
        "id": "4p6JgVAohWNl"
      }
    },
    {
      "cell_type": "markdown",
      "source": [
        "### Author\n",
        "\n",
        "Zane van Campfort"
      ],
      "metadata": {
        "id": "jhNPj06WkZL5"
      }
    },
    {
      "cell_type": "markdown",
      "source": [
        "Some of the popular languages that Data Scientists use are:\n",
        "\n",
        "1. Python\n",
        "2. R\n",
        "3. Julia\n",
        "4. Scala"
      ],
      "metadata": {
        "id": "7PNu8LACZzmu"
      }
    },
    {
      "cell_type": "markdown",
      "source": [
        "Some of the commonly used libraries used by Data Scientists include:\n",
        "\n",
        "1. Numpy\n",
        "2. scikit-learn\n",
        "3. Pandas\n",
        "4. ggplot"
      ],
      "metadata": {
        "id": "2ItKFuBSbTVJ"
      }
    },
    {
      "cell_type": "markdown",
      "source": [
        "| Data Science Tools |\n",
        "| ---------------- |\n",
        "| Apache Kafka |\n",
        "| MySQL |\n",
        "| Apache Spark |"
      ],
      "metadata": {
        "id": "_Wir2vGtbu7y"
      }
    },
    {
      "cell_type": "markdown",
      "source": [
        "#### Below are a few examples of evaluating arithmetic expressions in Python"
      ],
      "metadata": {
        "id": "kyTCG0JXeo9k"
      }
    },
    {
      "cell_type": "code",
      "source": [
        "# This is a simple arithmetic expression to multiply then add integers\n",
        "(3*4)+5"
      ],
      "metadata": {
        "id": "eWYPEDy0fHCm",
        "outputId": "0ff445ae-beea-4a00-fd65-240b923e0d69",
        "colab": {
          "base_uri": "https://localhost:8080/"
        }
      },
      "execution_count": 1,
      "outputs": [
        {
          "output_type": "execute_result",
          "data": {
            "text/plain": [
              "17"
            ]
          },
          "metadata": {},
          "execution_count": 1
        }
      ]
    },
    {
      "cell_type": "code",
      "source": [
        "# This will convert 200 minutes to hours by dividing by 60\n",
        "hrs = 200//60\n",
        "mins = 200 % 60\n",
        "print(\"200 minutes is equal to {} hrs and {} mins\".format(hrs, mins))"
      ],
      "metadata": {
        "id": "gp6L9RqngDkP",
        "outputId": "1a637531-dd5e-4363-8be3-526ccff1df57",
        "colab": {
          "base_uri": "https://localhost:8080/"
        }
      },
      "execution_count": 2,
      "outputs": [
        {
          "output_type": "stream",
          "name": "stdout",
          "text": [
            "200 minutes is equal to 3 hrs and 20 mins\n"
          ]
        }
      ]
    }
  ],
  "metadata": {
    "kernelspec": {
      "display_name": "Python",
      "language": "python",
      "name": "conda-env-python-py"
    },
    "language_info": {
      "name": ""
    },
    "colab": {
      "provenance": []
    }
  },
  "nbformat": 4,
  "nbformat_minor": 0
}